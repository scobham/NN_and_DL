{
  "nbformat": 4,
  "nbformat_minor": 0,
  "metadata": {
    "colab": {
      "name": "Vectorization demo.ipynb",
      "provenance": [],
      "collapsed_sections": [],
      "authorship_tag": "ABX9TyOAUSMBZFMNpUnr2jn6oeRf",
      "include_colab_link": true
    },
    "kernelspec": {
      "name": "python3",
      "display_name": "Python 3"
    }
  },
  "cells": [
    {
      "cell_type": "markdown",
      "metadata": {
        "id": "view-in-github",
        "colab_type": "text"
      },
      "source": [
        "<a href=\"https://colab.research.google.com/github/scobham/NN_and_DL/blob/master/Vectorization_demo.ipynb\" target=\"_parent\"><img src=\"https://colab.research.google.com/assets/colab-badge.svg\" alt=\"Open In Colab\"/></a>"
      ]
    },
    {
      "cell_type": "code",
      "metadata": {
        "id": "G-ewzpQEtEPX",
        "colab_type": "code",
        "colab": {
          "base_uri": "https://localhost:8080/",
          "height": 34
        },
        "outputId": "b8c4fd45-4a00-49ba-98dd-9975820b3817"
      },
      "source": [
        "import numpy as np\n",
        "\n",
        "a = np.array([1,2,3,4])\n",
        "print(a)"
      ],
      "execution_count": 1,
      "outputs": [
        {
          "output_type": "stream",
          "text": [
            "[1 2 3 4]\n"
          ],
          "name": "stdout"
        }
      ]
    },
    {
      "cell_type": "code",
      "metadata": {
        "id": "uZ4x4OXMtOWs",
        "colab_type": "code",
        "colab": {
          "base_uri": "https://localhost:8080/",
          "height": 51
        },
        "outputId": "a5487677-9e70-4ce7-d4df-89945d29acd9"
      },
      "source": [
        "import time\n",
        "\n",
        "a = np.random.rand(1000000)\n",
        "b = np.random.rand(1000000)\n",
        "\n",
        "tic = time.time()\n",
        "\n",
        "c = np.dot(a,b)\n",
        "\n",
        "toc = time.time()\n",
        "\n",
        "timed_a = toc-tic\n",
        "\n",
        "print(\"Vectorized version: \" + str(1000*timed_a) + \"ms\")\n",
        "print(c)"
      ],
      "execution_count": 9,
      "outputs": [
        {
          "output_type": "stream",
          "text": [
            "Vectorized version: 1.310110092163086ms\n",
            "250277.6194109753\n"
          ],
          "name": "stdout"
        }
      ]
    },
    {
      "cell_type": "code",
      "metadata": {
        "id": "sPHpyzsEvkan",
        "colab_type": "code",
        "colab": {
          "base_uri": "https://localhost:8080/",
          "height": 51
        },
        "outputId": "b0484250-4110-4388-bb5e-cf1c55f5e1c7"
      },
      "source": [
        "c = 0\n",
        "\n",
        "tic = time.time()\n",
        "\n",
        "for i in range(1000000):\n",
        "  c += a[i]*b[i]\n",
        "\n",
        "toc = time.time()\n",
        "timed_b = toc-tic\n",
        "\n",
        "print(\"For loop: \" + str(1000*(toc-tic)) + \"ms\")\n",
        "print(c)"
      ],
      "execution_count": 10,
      "outputs": [
        {
          "output_type": "stream",
          "text": [
            "For loop: 597.5279808044434ms\n",
            "250277.61941096472\n"
          ],
          "name": "stdout"
        }
      ]
    },
    {
      "cell_type": "code",
      "metadata": {
        "id": "vSY8mtXAwc-x",
        "colab_type": "code",
        "colab": {
          "base_uri": "https://localhost:8080/",
          "height": 34
        },
        "outputId": "2660d931-25a2-429e-bc29-65b9a4f1e8f7"
      },
      "source": [
        "print(f\"For loop takes {timed_b/timed_a} as long as the Vectorized vesion.\")"
      ],
      "execution_count": 11,
      "outputs": [
        {
          "output_type": "stream",
          "text": [
            "For loop takes 456.0898999090082 as long as the Vectorized vesion.\n"
          ],
          "name": "stdout"
        }
      ]
    },
    {
      "cell_type": "code",
      "metadata": {
        "id": "E4Oxn6Mk_viJ",
        "colab_type": "code",
        "colab": {}
      },
      "source": [
        ""
      ],
      "execution_count": 0,
      "outputs": []
    }
  ]
}